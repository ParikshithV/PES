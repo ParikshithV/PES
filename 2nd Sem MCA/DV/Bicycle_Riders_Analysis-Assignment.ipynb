{
 "cells": [
  {
   "cell_type": "markdown",
   "id": "c433465b",
   "metadata": {},
   "source": [
    "#### <font color=\"red\"> Research Question <br> <font color=\"limegreen\"> How many of the cyclists were students, how often did they ride, and what was the average distance they rode? "
   ]
  },
  {
   "cell_type": "code",
   "execution_count": 1,
   "id": "8c36a0a3",
   "metadata": {
    "scrolled": true
   },
   "outputs": [
    {
     "data": {
      "image/jpeg": "[encoded data removed]",
      "text/plain": [
       "<IPython.core.display.Image object>"
      ]
     },
     "execution_count": 1,
     "metadata": {},
     "output_type": "execute_result"
    }
   ],
   "source": [
    "from IPython.display import Image\n",
    "Image(filename='bicycle.jpg') "
   ]
  },
  {
   "cell_type": "markdown",
   "id": "5e02c61f",
   "metadata": {},
   "source": [
    "#### Import the Libraries"
   ]
  },
  {
   "cell_type": "code",
   "execution_count": 1,
   "id": "d5aa84ea",
   "metadata": {},
   "outputs": [],
   "source": [
    "import pandas as pd"
   ]
  },
  {
   "cell_type": "markdown",
   "id": "63426b7f",
   "metadata": {},
   "source": [
    "#### Read the Dataset bike_data.csv"
   ]
  },
  {
   "cell_type": "code",
   "execution_count": 26,
   "id": "2d8497ba",
   "metadata": {},
   "outputs": [
    {
     "data": {
      "text/html": [
       "<div>\n",
       "<style scoped>\n",
       "    .dataframe tbody tr th:only-of-type {\n",
       "        vertical-align: middle;\n",
       "    }\n",
       "\n",
       "    .dataframe tbody tr th {\n",
       "        vertical-align: top;\n",
       "    }\n",
       "\n",
       "    .dataframe thead th {\n",
       "        text-align: right;\n",
       "    }\n",
       "</style>\n",
       "<table border=\"1\" class=\"dataframe\">\n",
       "  <thead>\n",
       "    <tr style=\"text-align: right;\">\n",
       "      <th></th>\n",
       "      <th>user_id</th>\n",
       "      <th>age</th>\n",
       "      <th>gender</th>\n",
       "      <th>student</th>\n",
       "      <th>employed</th>\n",
       "      <th>cyc_freq</th>\n",
       "      <th>distance</th>\n",
       "      <th>time</th>\n",
       "      <th>speed</th>\n",
       "    </tr>\n",
       "  </thead>\n",
       "  <tbody>\n",
       "    <tr>\n",
       "      <th>0</th>\n",
       "      <td>1</td>\n",
       "      <td>28</td>\n",
       "      <td>M</td>\n",
       "      <td>1</td>\n",
       "      <td>1</td>\n",
       "      <td>Daily</td>\n",
       "      <td>3.25</td>\n",
       "      <td>15</td>\n",
       "      <td>13.00</td>\n",
       "    </tr>\n",
       "    <tr>\n",
       "      <th>1</th>\n",
       "      <td>2</td>\n",
       "      <td>35</td>\n",
       "      <td>M</td>\n",
       "      <td>0</td>\n",
       "      <td>1</td>\n",
       "      <td>Daily</td>\n",
       "      <td>1.11</td>\n",
       "      <td>5</td>\n",
       "      <td>13.32</td>\n",
       "    </tr>\n",
       "    <tr>\n",
       "      <th>2</th>\n",
       "      <td>3</td>\n",
       "      <td>28</td>\n",
       "      <td>M</td>\n",
       "      <td>0</td>\n",
       "      <td>1</td>\n",
       "      <td>Daily</td>\n",
       "      <td>5.59</td>\n",
       "      <td>23</td>\n",
       "      <td>14.58</td>\n",
       "    </tr>\n",
       "    <tr>\n",
       "      <th>3</th>\n",
       "      <td>4</td>\n",
       "      <td>44</td>\n",
       "      <td>F</td>\n",
       "      <td>0</td>\n",
       "      <td>1</td>\n",
       "      <td>Less than once a month</td>\n",
       "      <td>3.24</td>\n",
       "      <td>24</td>\n",
       "      <td>8.10</td>\n",
       "    </tr>\n",
       "    <tr>\n",
       "      <th>4</th>\n",
       "      <td>5</td>\n",
       "      <td>42</td>\n",
       "      <td>M</td>\n",
       "      <td>0</td>\n",
       "      <td>1</td>\n",
       "      <td>Several times per week</td>\n",
       "      <td>7.81</td>\n",
       "      <td>26</td>\n",
       "      <td>18.02</td>\n",
       "    </tr>\n",
       "    <tr>\n",
       "      <th>5</th>\n",
       "      <td>6</td>\n",
       "      <td>36</td>\n",
       "      <td>M</td>\n",
       "      <td>0</td>\n",
       "      <td>1</td>\n",
       "      <td>Several times per week</td>\n",
       "      <td>3.00</td>\n",
       "      <td>20</td>\n",
       "      <td>9.00</td>\n",
       "    </tr>\n",
       "    <tr>\n",
       "      <th>6</th>\n",
       "      <td>7</td>\n",
       "      <td>45</td>\n",
       "      <td>M</td>\n",
       "      <td>0</td>\n",
       "      <td>1</td>\n",
       "      <td>Several times per week</td>\n",
       "      <td>13.03</td>\n",
       "      <td>51</td>\n",
       "      <td>15.33</td>\n",
       "    </tr>\n",
       "    <tr>\n",
       "      <th>7</th>\n",
       "      <td>8</td>\n",
       "      <td>54</td>\n",
       "      <td>M</td>\n",
       "      <td>0</td>\n",
       "      <td>1</td>\n",
       "      <td>Several times per week</td>\n",
       "      <td>6.21</td>\n",
       "      <td>39</td>\n",
       "      <td>9.55</td>\n",
       "    </tr>\n",
       "    <tr>\n",
       "      <th>8</th>\n",
       "      <td>9</td>\n",
       "      <td>39</td>\n",
       "      <td>M</td>\n",
       "      <td>0</td>\n",
       "      <td>1</td>\n",
       "      <td>Several times per week</td>\n",
       "      <td>13.95</td>\n",
       "      <td>50</td>\n",
       "      <td>16.74</td>\n",
       "    </tr>\n",
       "    <tr>\n",
       "      <th>9</th>\n",
       "      <td>10</td>\n",
       "      <td>44</td>\n",
       "      <td>M</td>\n",
       "      <td>0</td>\n",
       "      <td>0</td>\n",
       "      <td>Several times per month</td>\n",
       "      <td>7.40</td>\n",
       "      <td>44</td>\n",
       "      <td>10.09</td>\n",
       "    </tr>\n",
       "  </tbody>\n",
       "</table>\n",
       "</div>"
      ],
      "text/plain": [
       "   user_id  age gender  student  employed                 cyc_freq  distance  \\\n",
       "0        1   28      M        1         1                    Daily      3.25   \n",
       "1        2   35      M        0         1                    Daily      1.11   \n",
       "2        3   28      M        0         1                    Daily      5.59   \n",
       "3        4   44      F        0         1   Less than once a month      3.24   \n",
       "4        5   42      M        0         1   Several times per week      7.81   \n",
       "5        6   36      M        0         1   Several times per week      3.00   \n",
       "6        7   45      M        0         1   Several times per week     13.03   \n",
       "7        8   54      M        0         1   Several times per week      6.21   \n",
       "8        9   39      M        0         1   Several times per week     13.95   \n",
       "9       10   44      M        0         0  Several times per month      7.40   \n",
       "\n",
       "   time  speed  \n",
       "0    15  13.00  \n",
       "1     5  13.32  \n",
       "2    23  14.58  \n",
       "3    24   8.10  \n",
       "4    26  18.02  \n",
       "5    20   9.00  \n",
       "6    51  15.33  \n",
       "7    39   9.55  \n",
       "8    50  16.74  \n",
       "9    44  10.09  "
      ]
     },
     "execution_count": 26,
     "metadata": {},
     "output_type": "execute_result"
    }
   ],
   "source": [
    "read = pd.read_csv(r\"C:\\Users\\parir\\Documents\\GitHub\\PES\\2nd Sem MCA\\DV\\BikeData.csv\")\n",
    "read.head(n=10)"
   ]
  },
  {
   "cell_type": "markdown",
   "id": "560061dd",
   "metadata": {},
   "source": [
    "#### 1. How many records are there in the dataset?"
   ]
  },
  {
   "cell_type": "code",
   "execution_count": 27,
   "id": "412f46fc",
   "metadata": {},
   "outputs": [
    {
     "data": {
      "text/plain": [
       "user_id     121\n",
       "age         121\n",
       "gender      121\n",
       "student     121\n",
       "employed    121\n",
       "cyc_freq    121\n",
       "distance    121\n",
       "time        121\n",
       "speed       121\n",
       "dtype: int64"
      ]
     },
     "execution_count": 27,
     "metadata": {},
     "output_type": "execute_result"
    }
   ],
   "source": [
    "read.count()\n",
    "#len(df.index)"
   ]
  },
  {
   "cell_type": "markdown",
   "id": "8462a018",
   "metadata": {},
   "source": [
    "#### 2. What is the datatype of the variable student, distance and cyc_feq?"
   ]
  },
  {
   "cell_type": "code",
   "execution_count": 31,
   "id": "1931b75b",
   "metadata": {},
   "outputs": [
    {
     "data": {
      "text/plain": [
       "dtype('O')"
      ]
     },
     "execution_count": 31,
     "metadata": {},
     "output_type": "execute_result"
    }
   ],
   "source": [
    "stud = read.student\n",
    "type(stud)\n",
    "dist = read.distance\n",
    "type(dist)\n",
    "cyc = read.cyc_freq\n",
    "type(cyc)"
   ]
  },
  {
   "cell_type": "markdown",
   "id": "ef7a0b07",
   "metadata": {},
   "source": [
    "##### Ans: Series"
   ]
  },
  {
   "cell_type": "markdown",
   "id": "34ee2549",
   "metadata": {},
   "source": [
    "#### 3. Change the employee and student as a categorical variable"
   ]
  },
  {
   "cell_type": "code",
   "execution_count": 39,
   "id": "09fe327d",
   "metadata": {
    "scrolled": true
   },
   "outputs": [
    {
     "name": "stdout",
     "output_type": "stream",
     "text": [
      "0      1\n",
      "1      0\n",
      "2      0\n",
      "3      0\n",
      "4      0\n",
      "      ..\n",
      "116    0\n",
      "117    0\n",
      "118    0\n",
      "119    0\n",
      "120    0\n",
      "Name: student, Length: 121, dtype: category\n",
      "Categories (2, int64): [0, 1]\n"
     ]
    }
   ],
   "source": [
    "emp = read.employed\n",
    "e = pd.Series(stud, dtype=\"category\")\n",
    "print(e)"
   ]
  },
  {
   "cell_type": "code",
   "execution_count": 40,
   "id": "fde10e69",
   "metadata": {},
   "outputs": [
    {
     "name": "stdout",
     "output_type": "stream",
     "text": [
      "0      1\n",
      "1      0\n",
      "2      0\n",
      "3      0\n",
      "4      0\n",
      "      ..\n",
      "116    0\n",
      "117    0\n",
      "118    0\n",
      "119    0\n",
      "120    0\n",
      "Name: student, Length: 121, dtype: category\n",
      "Categories (2, int64): [0, 1]\n"
     ]
    }
   ],
   "source": [
    "stud = read.student\n",
    "s = pd.Series(stud, dtype=\"category\")\n",
    "print(s)"
   ]
  },
  {
   "cell_type": "markdown",
   "id": "2c4a80de",
   "metadata": {},
   "source": [
    "#### 4. What is the age of the 7th rider in the dataset?"
   ]
  },
  {
   "cell_type": "code",
   "execution_count": 118,
   "id": "0cc1a8b9",
   "metadata": {},
   "outputs": [
    {
     "data": {
      "text/plain": [
       "54"
      ]
     },
     "execution_count": 118,
     "metadata": {},
     "output_type": "execute_result"
    }
   ],
   "source": [
    "read.age[7]"
   ]
  },
  {
   "cell_type": "markdown",
   "id": "c50edd68",
   "metadata": {},
   "source": [
    "#### 5. What are the different categories of cyclic frequency and their frequency count "
   ]
  },
  {
   "cell_type": "code",
   "execution_count": 46,
   "id": "8065d6b9",
   "metadata": {},
   "outputs": [
    {
     "name": "stdout",
     "output_type": "stream",
     "text": [
      "['Daily' 'Less than once a month' 'Several times per week'\n",
      " 'Several times per month']\n"
     ]
    }
   ],
   "source": [
    "cat = read['cyc_freq'].unique()\n",
    "print(cat)"
   ]
  },
  {
   "cell_type": "markdown",
   "id": "ed807a25",
   "metadata": {},
   "source": [
    "#### 6. Retrieve the first 10 riders who ride daily?"
   ]
  },
  {
   "cell_type": "code",
   "execution_count": 84,
   "id": "2faa1935",
   "metadata": {
    "scrolled": true
   },
   "outputs": [
    {
     "data": {
      "text/html": [
       "<div>\n",
       "<style scoped>\n",
       "    .dataframe tbody tr th:only-of-type {\n",
       "        vertical-align: middle;\n",
       "    }\n",
       "\n",
       "    .dataframe tbody tr th {\n",
       "        vertical-align: top;\n",
       "    }\n",
       "\n",
       "    .dataframe thead th {\n",
       "        text-align: right;\n",
       "    }\n",
       "</style>\n",
       "<table border=\"1\" class=\"dataframe\">\n",
       "  <thead>\n",
       "    <tr style=\"text-align: right;\">\n",
       "      <th></th>\n",
       "      <th>user_id</th>\n",
       "      <th>age</th>\n",
       "      <th>gender</th>\n",
       "      <th>student</th>\n",
       "      <th>employed</th>\n",
       "      <th>cyc_freq</th>\n",
       "      <th>distance</th>\n",
       "      <th>time</th>\n",
       "      <th>speed</th>\n",
       "    </tr>\n",
       "  </thead>\n",
       "  <tbody>\n",
       "    <tr>\n",
       "      <th>0</th>\n",
       "      <td>1</td>\n",
       "      <td>28</td>\n",
       "      <td>M</td>\n",
       "      <td>1</td>\n",
       "      <td>1</td>\n",
       "      <td>Daily</td>\n",
       "      <td>3.25</td>\n",
       "      <td>15</td>\n",
       "      <td>13.00</td>\n",
       "    </tr>\n",
       "    <tr>\n",
       "      <th>1</th>\n",
       "      <td>2</td>\n",
       "      <td>35</td>\n",
       "      <td>M</td>\n",
       "      <td>0</td>\n",
       "      <td>1</td>\n",
       "      <td>Daily</td>\n",
       "      <td>1.11</td>\n",
       "      <td>5</td>\n",
       "      <td>13.32</td>\n",
       "    </tr>\n",
       "    <tr>\n",
       "      <th>2</th>\n",
       "      <td>3</td>\n",
       "      <td>28</td>\n",
       "      <td>M</td>\n",
       "      <td>0</td>\n",
       "      <td>1</td>\n",
       "      <td>Daily</td>\n",
       "      <td>5.59</td>\n",
       "      <td>23</td>\n",
       "      <td>14.58</td>\n",
       "    </tr>\n",
       "    <tr>\n",
       "      <th>10</th>\n",
       "      <td>11</td>\n",
       "      <td>29</td>\n",
       "      <td>M</td>\n",
       "      <td>0</td>\n",
       "      <td>1</td>\n",
       "      <td>Daily</td>\n",
       "      <td>4.36</td>\n",
       "      <td>20</td>\n",
       "      <td>13.08</td>\n",
       "    </tr>\n",
       "    <tr>\n",
       "      <th>13</th>\n",
       "      <td>14</td>\n",
       "      <td>29</td>\n",
       "      <td>M</td>\n",
       "      <td>0</td>\n",
       "      <td>1</td>\n",
       "      <td>Daily</td>\n",
       "      <td>2.62</td>\n",
       "      <td>15</td>\n",
       "      <td>10.48</td>\n",
       "    </tr>\n",
       "    <tr>\n",
       "      <th>14</th>\n",
       "      <td>15</td>\n",
       "      <td>26</td>\n",
       "      <td>M</td>\n",
       "      <td>1</td>\n",
       "      <td>1</td>\n",
       "      <td>Daily</td>\n",
       "      <td>10.94</td>\n",
       "      <td>34</td>\n",
       "      <td>19.31</td>\n",
       "    </tr>\n",
       "    <tr>\n",
       "      <th>16</th>\n",
       "      <td>17</td>\n",
       "      <td>33</td>\n",
       "      <td>M</td>\n",
       "      <td>0</td>\n",
       "      <td>1</td>\n",
       "      <td>Daily</td>\n",
       "      <td>10.02</td>\n",
       "      <td>45</td>\n",
       "      <td>13.36</td>\n",
       "    </tr>\n",
       "    <tr>\n",
       "      <th>17</th>\n",
       "      <td>18</td>\n",
       "      <td>32</td>\n",
       "      <td>F</td>\n",
       "      <td>1</td>\n",
       "      <td>1</td>\n",
       "      <td>Daily</td>\n",
       "      <td>9.34</td>\n",
       "      <td>40</td>\n",
       "      <td>14.01</td>\n",
       "    </tr>\n",
       "    <tr>\n",
       "      <th>18</th>\n",
       "      <td>19</td>\n",
       "      <td>43</td>\n",
       "      <td>M</td>\n",
       "      <td>0</td>\n",
       "      <td>1</td>\n",
       "      <td>Daily</td>\n",
       "      <td>7.02</td>\n",
       "      <td>28</td>\n",
       "      <td>15.04</td>\n",
       "    </tr>\n",
       "    <tr>\n",
       "      <th>25</th>\n",
       "      <td>26</td>\n",
       "      <td>35</td>\n",
       "      <td>M</td>\n",
       "      <td>0</td>\n",
       "      <td>1</td>\n",
       "      <td>Daily</td>\n",
       "      <td>6.04</td>\n",
       "      <td>31</td>\n",
       "      <td>11.69</td>\n",
       "    </tr>\n",
       "  </tbody>\n",
       "</table>\n",
       "</div>"
      ],
      "text/plain": [
       "    user_id  age gender  student  employed cyc_freq  distance  time  speed\n",
       "0         1   28      M        1         1    Daily      3.25    15  13.00\n",
       "1         2   35      M        0         1    Daily      1.11     5  13.32\n",
       "2         3   28      M        0         1    Daily      5.59    23  14.58\n",
       "10       11   29      M        0         1    Daily      4.36    20  13.08\n",
       "13       14   29      M        0         1    Daily      2.62    15  10.48\n",
       "14       15   26      M        1         1    Daily     10.94    34  19.31\n",
       "16       17   33      M        0         1    Daily     10.02    45  13.36\n",
       "17       18   32      F        1         1    Daily      9.34    40  14.01\n",
       "18       19   43      M        0         1    Daily      7.02    28  15.04\n",
       "25       26   35      M        0         1    Daily      6.04    31  11.69"
      ]
     },
     "execution_count": 84,
     "metadata": {},
     "output_type": "execute_result"
    }
   ],
   "source": [
    "daily=read[read[\"cyc_freq\"]==\"Daily\"]\n",
    "daily.head(10)"
   ]
  },
  {
   "cell_type": "markdown",
   "id": "e7394a7c",
   "metadata": {},
   "source": [
    "#### 7. What is the speed of the first female who cycles less than one time per month (in miles/hour)?"
   ]
  },
  {
   "cell_type": "code",
   "execution_count": 90,
   "id": "63c6403c",
   "metadata": {},
   "outputs": [
    {
     "data": {
      "text/html": [
       "<div>\n",
       "<style scoped>\n",
       "    .dataframe tbody tr th:only-of-type {\n",
       "        vertical-align: middle;\n",
       "    }\n",
       "\n",
       "    .dataframe tbody tr th {\n",
       "        vertical-align: top;\n",
       "    }\n",
       "\n",
       "    .dataframe thead th {\n",
       "        text-align: right;\n",
       "    }\n",
       "</style>\n",
       "<table border=\"1\" class=\"dataframe\">\n",
       "  <thead>\n",
       "    <tr style=\"text-align: right;\">\n",
       "      <th></th>\n",
       "      <th>user_id</th>\n",
       "      <th>age</th>\n",
       "      <th>gender</th>\n",
       "      <th>student</th>\n",
       "      <th>employed</th>\n",
       "      <th>cyc_freq</th>\n",
       "      <th>distance</th>\n",
       "      <th>time</th>\n",
       "      <th>speed</th>\n",
       "    </tr>\n",
       "  </thead>\n",
       "  <tbody>\n",
       "    <tr>\n",
       "      <th>3</th>\n",
       "      <td>4</td>\n",
       "      <td>44</td>\n",
       "      <td>F</td>\n",
       "      <td>0</td>\n",
       "      <td>1</td>\n",
       "      <td>Less than once a month</td>\n",
       "      <td>3.24</td>\n",
       "      <td>24</td>\n",
       "      <td>8.1</td>\n",
       "    </tr>\n",
       "    <tr>\n",
       "      <th>56</th>\n",
       "      <td>57</td>\n",
       "      <td>48</td>\n",
       "      <td>F</td>\n",
       "      <td>0</td>\n",
       "      <td>1</td>\n",
       "      <td>Less than once a month</td>\n",
       "      <td>4.44</td>\n",
       "      <td>18</td>\n",
       "      <td>14.8</td>\n",
       "    </tr>\n",
       "  </tbody>\n",
       "</table>\n",
       "</div>"
      ],
      "text/plain": [
       "    user_id  age gender  student  employed                cyc_freq  distance  \\\n",
       "3         4   44      F        0         1  Less than once a month      3.24   \n",
       "56       57   48      F        0         1  Less than once a month      4.44   \n",
       "\n",
       "    time  speed  \n",
       "3     24    8.1  \n",
       "56    18   14.8  "
      ]
     },
     "execution_count": 90,
     "metadata": {},
     "output_type": "execute_result"
    }
   ],
   "source": [
    "daily=read[read[\"gender\"]==\"F\"]\n",
    "freq = daily[daily[\"cyc_freq\"]==\"Less than once a month\"]\n",
    "freq"
   ]
  },
  {
   "cell_type": "markdown",
   "id": "2fc23207",
   "metadata": {},
   "source": [
    "#### 8. Pull out the student data into a separate dataframe for analysis"
   ]
  },
  {
   "cell_type": "code",
   "execution_count": 110,
   "id": "e51f15f3",
   "metadata": {},
   "outputs": [
    {
     "data": {
      "text/html": [
       "<div>\n",
       "<style scoped>\n",
       "    .dataframe tbody tr th:only-of-type {\n",
       "        vertical-align: middle;\n",
       "    }\n",
       "\n",
       "    .dataframe tbody tr th {\n",
       "        vertical-align: top;\n",
       "    }\n",
       "\n",
       "    .dataframe thead th {\n",
       "        text-align: right;\n",
       "    }\n",
       "</style>\n",
       "<table border=\"1\" class=\"dataframe\">\n",
       "  <thead>\n",
       "    <tr style=\"text-align: right;\">\n",
       "      <th></th>\n",
       "      <th>user_id</th>\n",
       "      <th>age</th>\n",
       "      <th>gender</th>\n",
       "      <th>student</th>\n",
       "      <th>employed</th>\n",
       "      <th>cyc_freq</th>\n",
       "      <th>distance</th>\n",
       "      <th>time</th>\n",
       "      <th>speed</th>\n",
       "    </tr>\n",
       "  </thead>\n",
       "  <tbody>\n",
       "    <tr>\n",
       "      <th>0</th>\n",
       "      <td>1</td>\n",
       "      <td>28</td>\n",
       "      <td>M</td>\n",
       "      <td>1</td>\n",
       "      <td>1</td>\n",
       "      <td>Daily</td>\n",
       "      <td>3.25</td>\n",
       "      <td>15</td>\n",
       "      <td>13.00</td>\n",
       "    </tr>\n",
       "    <tr>\n",
       "      <th>14</th>\n",
       "      <td>15</td>\n",
       "      <td>26</td>\n",
       "      <td>M</td>\n",
       "      <td>1</td>\n",
       "      <td>1</td>\n",
       "      <td>Daily</td>\n",
       "      <td>10.94</td>\n",
       "      <td>34</td>\n",
       "      <td>19.31</td>\n",
       "    </tr>\n",
       "    <tr>\n",
       "      <th>17</th>\n",
       "      <td>18</td>\n",
       "      <td>32</td>\n",
       "      <td>F</td>\n",
       "      <td>1</td>\n",
       "      <td>1</td>\n",
       "      <td>Daily</td>\n",
       "      <td>9.34</td>\n",
       "      <td>40</td>\n",
       "      <td>14.01</td>\n",
       "    </tr>\n",
       "    <tr>\n",
       "      <th>30</th>\n",
       "      <td>31</td>\n",
       "      <td>25</td>\n",
       "      <td>M</td>\n",
       "      <td>1</td>\n",
       "      <td>1</td>\n",
       "      <td>Daily</td>\n",
       "      <td>1.25</td>\n",
       "      <td>6</td>\n",
       "      <td>12.50</td>\n",
       "    </tr>\n",
       "    <tr>\n",
       "      <th>48</th>\n",
       "      <td>49</td>\n",
       "      <td>44</td>\n",
       "      <td>M</td>\n",
       "      <td>1</td>\n",
       "      <td>1</td>\n",
       "      <td>Several times per week</td>\n",
       "      <td>9.29</td>\n",
       "      <td>41</td>\n",
       "      <td>13.60</td>\n",
       "    </tr>\n",
       "    <tr>\n",
       "      <th>57</th>\n",
       "      <td>58</td>\n",
       "      <td>26</td>\n",
       "      <td>F</td>\n",
       "      <td>1</td>\n",
       "      <td>1</td>\n",
       "      <td>Daily</td>\n",
       "      <td>2.77</td>\n",
       "      <td>16</td>\n",
       "      <td>10.39</td>\n",
       "    </tr>\n",
       "    <tr>\n",
       "      <th>58</th>\n",
       "      <td>59</td>\n",
       "      <td>44</td>\n",
       "      <td>M</td>\n",
       "      <td>1</td>\n",
       "      <td>1</td>\n",
       "      <td>Several times per week</td>\n",
       "      <td>4.84</td>\n",
       "      <td>22</td>\n",
       "      <td>13.20</td>\n",
       "    </tr>\n",
       "    <tr>\n",
       "      <th>76</th>\n",
       "      <td>77</td>\n",
       "      <td>63</td>\n",
       "      <td>M</td>\n",
       "      <td>1</td>\n",
       "      <td>1</td>\n",
       "      <td>Several times per week</td>\n",
       "      <td>6.56</td>\n",
       "      <td>40</td>\n",
       "      <td>9.84</td>\n",
       "    </tr>\n",
       "    <tr>\n",
       "      <th>85</th>\n",
       "      <td>86</td>\n",
       "      <td>22</td>\n",
       "      <td>M</td>\n",
       "      <td>1</td>\n",
       "      <td>0</td>\n",
       "      <td>Daily</td>\n",
       "      <td>0.85</td>\n",
       "      <td>4</td>\n",
       "      <td>12.75</td>\n",
       "    </tr>\n",
       "    <tr>\n",
       "      <th>87</th>\n",
       "      <td>88</td>\n",
       "      <td>25</td>\n",
       "      <td>M</td>\n",
       "      <td>1</td>\n",
       "      <td>1</td>\n",
       "      <td>Several times per week</td>\n",
       "      <td>6.07</td>\n",
       "      <td>29</td>\n",
       "      <td>12.56</td>\n",
       "    </tr>\n",
       "    <tr>\n",
       "      <th>96</th>\n",
       "      <td>97</td>\n",
       "      <td>29</td>\n",
       "      <td>M</td>\n",
       "      <td>1</td>\n",
       "      <td>0</td>\n",
       "      <td>Several times per week</td>\n",
       "      <td>3.52</td>\n",
       "      <td>15</td>\n",
       "      <td>14.08</td>\n",
       "    </tr>\n",
       "    <tr>\n",
       "      <th>102</th>\n",
       "      <td>103</td>\n",
       "      <td>25</td>\n",
       "      <td>F</td>\n",
       "      <td>1</td>\n",
       "      <td>0</td>\n",
       "      <td>Daily</td>\n",
       "      <td>13.43</td>\n",
       "      <td>37</td>\n",
       "      <td>21.78</td>\n",
       "    </tr>\n",
       "    <tr>\n",
       "      <th>110</th>\n",
       "      <td>111</td>\n",
       "      <td>30</td>\n",
       "      <td>M</td>\n",
       "      <td>1</td>\n",
       "      <td>0</td>\n",
       "      <td>Daily</td>\n",
       "      <td>7.19</td>\n",
       "      <td>26</td>\n",
       "      <td>16.59</td>\n",
       "    </tr>\n",
       "    <tr>\n",
       "      <th>114</th>\n",
       "      <td>115</td>\n",
       "      <td>33</td>\n",
       "      <td>F</td>\n",
       "      <td>1</td>\n",
       "      <td>1</td>\n",
       "      <td>Several times per week</td>\n",
       "      <td>8.31</td>\n",
       "      <td>42</td>\n",
       "      <td>11.87</td>\n",
       "    </tr>\n",
       "  </tbody>\n",
       "</table>\n",
       "</div>"
      ],
      "text/plain": [
       "     user_id  age gender  student  employed                cyc_freq  distance  \\\n",
       "0          1   28      M        1         1                   Daily      3.25   \n",
       "14        15   26      M        1         1                   Daily     10.94   \n",
       "17        18   32      F        1         1                   Daily      9.34   \n",
       "30        31   25      M        1         1                   Daily      1.25   \n",
       "48        49   44      M        1         1  Several times per week      9.29   \n",
       "57        58   26      F        1         1                   Daily      2.77   \n",
       "58        59   44      M        1         1  Several times per week      4.84   \n",
       "76        77   63      M        1         1  Several times per week      6.56   \n",
       "85        86   22      M        1         0                   Daily      0.85   \n",
       "87        88   25      M        1         1  Several times per week      6.07   \n",
       "96        97   29      M        1         0  Several times per week      3.52   \n",
       "102      103   25      F        1         0                   Daily     13.43   \n",
       "110      111   30      M        1         0                   Daily      7.19   \n",
       "114      115   33      F        1         1  Several times per week      8.31   \n",
       "\n",
       "     time  speed  \n",
       "0      15  13.00  \n",
       "14     34  19.31  \n",
       "17     40  14.01  \n",
       "30      6  12.50  \n",
       "48     41  13.60  \n",
       "57     16  10.39  \n",
       "58     22  13.20  \n",
       "76     40   9.84  \n",
       "85      4  12.75  \n",
       "87     29  12.56  \n",
       "96     15  14.08  \n",
       "102    37  21.78  \n",
       "110    26  16.59  \n",
       "114    42  11.87  "
      ]
     },
     "execution_count": 110,
     "metadata": {},
     "output_type": "execute_result"
    }
   ],
   "source": [
    "final = read[read[\"student\"]==1]\n",
    "final"
   ]
  },
  {
   "cell_type": "code",
   "execution_count": null,
   "id": "8ebfa82c",
   "metadata": {},
   "outputs": [],
   "source": []
  },
  {
   "cell_type": "code",
   "execution_count": null,
   "id": "3f8bf934",
   "metadata": {},
   "outputs": [],
   "source": []
  },
  {
   "cell_type": "markdown",
   "id": "3e497da2",
   "metadata": {},
   "source": [
    "#### 9. How often the students ride?"
   ]
  },
  {
   "cell_type": "code",
   "execution_count": 114,
   "id": "7a20b09b",
   "metadata": {},
   "outputs": [
    {
     "data": {
      "text/plain": [
       "'Several times per week'"
      ]
     },
     "execution_count": 114,
     "metadata": {},
     "output_type": "execute_result"
    }
   ],
   "source": [
    "read['cyc_freq'].value_counts().idxmax()"
   ]
  },
  {
   "cell_type": "markdown",
   "id": "120d182d",
   "metadata": {},
   "source": [
    "##### Ans:"
   ]
  },
  {
   "cell_type": "markdown",
   "id": "84618506",
   "metadata": {},
   "source": [
    "#### 10. Find the average distance ridden"
   ]
  },
  {
   "cell_type": "code",
   "execution_count": 111,
   "id": "81c43499",
   "metadata": {},
   "outputs": [
    {
     "data": {
      "text/plain": [
       "5.990661157024791"
      ]
     },
     "execution_count": 111,
     "metadata": {},
     "output_type": "execute_result"
    }
   ],
   "source": [
    "read[\"distance\"].mean()"
   ]
  },
  {
   "cell_type": "markdown",
   "id": "309ef398",
   "metadata": {},
   "source": [
    "## Conclusion <br>\n",
    "We examined data on ---- student riders. Most of the student riders (a total of --- out of ---) rode their bikes ----.  On average, the students rode about --- miles on each trip."
   ]
  },
  {
   "cell_type": "markdown",
   "id": "33b213a5",
   "metadata": {},
   "source": [
    "### Done"
   ]
  }
 ],
 "metadata": {
  "kernelspec": {
   "display_name": "Python 3",
   "language": "python",
   "name": "python3"
  },
  "language_info": {
   "codemirror_mode": {
    "name": "ipython",
    "version": 3
   },
   "file_extension": ".py",
   "mimetype": "text/x-python",
   "name": "python",
   "nbconvert_exporter": "python",
   "pygments_lexer": "ipython3",
   "version": "3.8.8"
  }
 },
 "nbformat": 4,
 "nbformat_minor": 5
}
